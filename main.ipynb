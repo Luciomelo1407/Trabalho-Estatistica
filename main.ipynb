{
 "cells": [
  {
   "cell_type": "code",
   "execution_count": 16,
   "metadata": {},
   "outputs": [],
   "source": [
    "import numpy as np\n",
    "import pandas as pd\n",
    "from IPython.display import display, Markdown, Latex\n",
    "\n"
   ]
  },
  {
   "cell_type": "markdown",
   "metadata": {},
   "source": [
    "1. Na pasta de musicas do aplicativo existem 31 músicas enumeradas. Seja  $\\Omega = \\{musica 1,\\; musica 2,\\; musica 3,\\;\\ldots,\\; musica 30,\\; musica 31\\}$. Descreva os Eventos:\n",
    "    1. Apenas musicas de index pares foram escolhidas.\n",
    "    2. O index de musicas escolhidas foram maiores que 20"
   ]
  },
  {
   "cell_type": "code",
   "execution_count": 25,
   "metadata": {},
   "outputs": [
    {
     "data": {
      "text/markdown": [
       "$L= ['musica 1', 'musica 2', 'musica 3', 'musica 4', 'musica 5', 'musica 6', 'musica 7', 'musica 8', 'musica 9', 'musica 10', 'musica 11', 'musica 12', 'musica 13', 'musica 14', 'musica 15', 'musica 16', 'musica 17', 'musica 18', 'musica 19', 'musica 20', 'musica 21', 'musica 22', 'musica 23', 'musica 24', 'musica 25', 'musica 26', 'musica 27', 'musica 28', 'musica 29', 'musica 30', 'musica 31']$"
      ],
      "text/plain": [
       "<IPython.core.display.Markdown object>"
      ]
     },
     "metadata": {},
     "output_type": "display_data"
    },
    {
     "data": {
      "text/markdown": [
       "Evento $A$ index pares. \n",
       "Evento $B$ index maiores que 10."
      ],
      "text/plain": [
       "<IPython.core.display.Markdown object>"
      ]
     },
     "metadata": {},
     "output_type": "display_data"
    },
    {
     "data": {
      "text/markdown": [
       "$A=['musica 2', 'musica 4', 'musica 6', 'musica 8', 'musica 10', 'musica 12', 'musica 14', 'musica 16', 'musica 18', 'musica 20', 'musica 22', 'musica 24', 'musica 26', 'musica 28', 'musica 30']$"
      ],
      "text/plain": [
       "<IPython.core.display.Markdown object>"
      ]
     },
     "metadata": {},
     "output_type": "display_data"
    },
    {
     "data": {
      "text/markdown": [
       "$B = ['musica 21', 'musica 22', 'musica 23', 'musica 24', 'musica 25', 'musica 26', 'musica 27', 'musica 28', 'musica 29', 'musica 30', 'musica 31']$"
      ],
      "text/plain": [
       "<IPython.core.display.Markdown object>"
      ]
     },
     "metadata": {},
     "output_type": "display_data"
    }
   ],
   "source": [
    "lista_de_muscias = []\n",
    "for i in range(1,32,1):\n",
    "    lista_de_muscias.append(f'musica {i}')\n",
    "display(Markdown(f'$L= {lista_de_muscias}$'))\n",
    "display(Markdown(f\"Evento $A$ index pares. \\nEvento $B$ index maiores que 10.\"))\n",
    "\n",
    "pares = []\n",
    "for i in range(1,31,2):\n",
    "    pares.append(lista_de_muscias[i])\n",
    "\n",
    "display(Markdown(f\"$A={pares}$\"))\n",
    "\n",
    "maiorque20 = []\n",
    "for i in range(20,31,1):\n",
    "    maiorque20.append(lista_de_muscias[i])\n",
    "display(Markdown(f'$B = {maiorque20}$'))\n"
   ]
  },
  {
   "cell_type": "code",
   "execution_count": null,
   "metadata": {},
   "outputs": [],
   "source": []
  }
 ],
 "metadata": {
  "kernelspec": {
   "display_name": "estatisticaEnv",
   "language": "python",
   "name": "python3"
  },
  "language_info": {
   "codemirror_mode": {
    "name": "ipython",
    "version": 3
   },
   "file_extension": ".py",
   "mimetype": "text/x-python",
   "name": "python",
   "nbconvert_exporter": "python",
   "pygments_lexer": "ipython3",
   "version": "3.12.0"
  }
 },
 "nbformat": 4,
 "nbformat_minor": 2
}
